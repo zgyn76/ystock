{
 "cells": [
  {
   "metadata": {
    "ExecuteTime": {
     "end_time": "2025-02-22T13:59:45.454283Z",
     "start_time": "2025-02-22T13:59:45.440285Z"
    }
   },
   "cell_type": "code",
   "source": [
    "import akshare as ak\n",
    "import pandas as pd\n",
    "import numpy as np\n",
    "import requests\n",
    "import functools"
   ],
   "id": "e1159493dbcbf6f7",
   "outputs": [],
   "execution_count": 30
  },
  {
   "metadata": {
    "ExecuteTime": {
     "end_time": "2025-02-22T14:03:35.681571Z",
     "start_time": "2025-02-22T14:03:35.143834Z"
    }
   },
   "cell_type": "code",
   "source": [
    "# 1. 一次性获取所有 A 股股票的实时行情数据\n",
    "# 定义一个空的 DataFrame 用于存储所有数据\n",
    "all_stock_spot = ak.stock_zh_a_spot_em()\n",
    "if all_stock_spot.empty:\n",
    "    print(\"Failed to get all stock spot data.\")\n",
    "else:\n",
    "    # 将总市值从元转换为亿\n",
    "    all_stock_spot['总市值'] = pd.to_numeric(all_stock_spot['总市值'], errors='coerce') / 1e8\n",
    "    # 筛选出市值大于 300 亿的股票代码和名称\n",
    "    valid_stocks = all_stock_spot[all_stock_spot['总市值'] > 100][['代码', '名称']].values.tolist()"
   ],
   "id": "93a6ed7ce6c99c11",
   "outputs": [],
   "execution_count": 32
  },
  {
   "metadata": {
    "ExecuteTime": {
     "end_time": "2025-02-22T14:07:38.864575Z",
     "start_time": "2025-02-22T14:03:48.999083Z"
    }
   },
   "cell_type": "code",
   "source": [
    "# 2. 定义起始日期\n",
    "start_date = '20000101'\n",
    "\n",
    "# 3. 存储筛选后的股票数据\n",
    "filtered_stocks_data = {}\n",
    "\n",
    "# 4. 遍历市值符合要求的股票代码获取日线数据\n",
    "for code, name in valid_stocks:\n",
    "    try:\n",
    "        # 获取股票日线数据\n",
    "        stock_daily = ak.stock_zh_a_hist(symbol=code, period=\"daily\", start_date=start_date, adjust=\"qfq\")\n",
    "        if not stock_daily.empty:\n",
    "            filtered_stocks_data[code] = {\n",
    "                'name': name,\n",
    "                'data': stock_daily\n",
    "            }\n",
    "    except Exception as e:\n",
    "        print(f\"Error getting daily data for {code}: {e}\")"
   ],
   "id": "29117972c7937a38",
   "outputs": [
    {
     "name": "stdout",
     "output_type": "stream",
     "text": [
      "Error getting daily data for 000875: ('Connection aborted.', RemoteDisconnected('Remote end closed connection without response'))\n"
     ]
    }
   ],
   "execution_count": 33
  },
  {
   "metadata": {
    "ExecuteTime": {
     "end_time": "2025-02-22T14:10:40.571784Z",
     "start_time": "2025-02-22T14:10:34.752726Z"
    }
   },
   "cell_type": "code",
   "source": [
    "# 5. 定义计算 KDJ 的函数\n",
    "def calculate_kdj(data, n=9, m1=3, m2=3):\n",
    "    \"\"\"\n",
    "    计算 KDJ 指标\n",
    "    :param data: 包含 'close', 'high', 'low' 列的 DataFrame\n",
    "    :param n: RSV 周期，默认为 9\n",
    "    :param m1: K 平滑因子，默认为 3\n",
    "    :param m2: D 平滑因子，默认为 3\n",
    "    :return: 包含 'K', 'D', 'J' 列的 DataFrame\n",
    "    \"\"\"\n",
    "    low_min = data['low'].rolling(window=n).min()\n",
    "    high_max = data['high'].rolling(window=n).max()\n",
    "    rsv = (data['close'] - low_min) / (high_max - low_min) * 100\n",
    "    data['K'] = rsv.ewm(com=m1 - 1, adjust=False).mean()\n",
    "    data['D'] = data['K'].ewm(com=m2 - 1, adjust=False).mean()\n",
    "    data['J'] = 3 * data['K'] - 2 * data['D']\n",
    "    return data\n",
    "\n",
    "# 6. 计算筛选出的股票的 KDJ 值\n",
    "kdj_results = {}\n",
    "for code, stock_info in filtered_stocks_data.items():\n",
    "    data = stock_info['data'].rename(columns={'开盘': 'open', '收盘': 'close', '最高': 'high', '最低': 'low'})\n",
    "    data_with_kdj = calculate_kdj(data)\n",
    "    kdj_results[code] = {\n",
    "        'name': stock_info['name'],\n",
    "        'data': data_with_kdj\n",
    "    }\n"
   ],
   "id": "228766ec3396b7cc",
   "outputs": [],
   "execution_count": 34
  },
  {
   "metadata": {
    "ExecuteTime": {
     "end_time": "2025-02-22T14:10:42.805457Z",
     "start_time": "2025-02-22T14:10:42.432455Z"
    }
   },
   "cell_type": "code",
   "source": [
    "# 7. 挑选出 KDJ 的 J 值小于 5 的股票\n",
    "j_less_than_5_stocks = []\n",
    "for code, stock_info in kdj_results.items():\n",
    "    if not stock_info['data']['J'].empty and stock_info['data']['J'].iloc[-1] < -5 :\n",
    "        j_less_than_5_stocks.append({\n",
    "            'code': code,\n",
    "            'name': stock_info['name'],\n",
    "            'j_value': stock_info['data']['J'].iloc[-1]\n",
    "        })\n",
    "\n",
    "# 8. 打印 KDJ 的 J 值小于 5 的股票信息\n",
    "if j_less_than_5_stocks:\n",
    "    print(\"KDJ 的 J 值小于 5 的股票信息：\")\n",
    "    for stock in j_less_than_5_stocks:\n",
    "        print(f\"股票代码: {stock['code']}, 股票名称: {stock['name']}, J 值: {stock['j_value']:.2f}\")\n",
    "else:\n",
    "    print(\"没有找到 KDJ 的 J 值小于 5 的股票。\")"
   ],
   "id": "71ca3016500a2b63",
   "outputs": [
    {
     "name": "stdout",
     "output_type": "stream",
     "text": [
      "KDJ 的 J 值小于 5 的股票信息：\n",
      "股票代码: 002217, 股票名称: *ST合泰, J 值: -6.36\n",
      "股票代码: 600320, 股票名称: 振华重工, J 值: -5.22\n",
      "股票代码: 600438, 股票名称: 通威股份, J 值: -5.42\n",
      "股票代码: 601018, 股票名称: 宁波港, J 值: -11.96\n",
      "股票代码: 601928, 股票名称: 凤凰传媒, J 值: -11.39\n",
      "股票代码: 601872, 股票名称: 招商轮船, J 值: -8.41\n",
      "股票代码: 601228, 股票名称: 广州港, J 值: -6.59\n",
      "股票代码: 600925, 股票名称: 苏能股份, J 值: -6.73\n",
      "股票代码: 600373, 股票名称: 中文传媒, J 值: -9.51\n",
      "股票代码: 600170, 股票名称: 上海建工, J 值: -11.72\n",
      "股票代码: 600028, 股票名称: 中国石化, J 值: -5.68\n",
      "股票代码: 002739, 股票名称: 万达电影, J 值: -10.35\n",
      "股票代码: 000630, 股票名称: 铜陵有色, J 值: -8.40\n",
      "股票代码: 601958, 股票名称: 金钼股份, J 值: -6.43\n",
      "股票代码: 600295, 股票名称: 鄂尔多斯, J 值: -5.97\n",
      "股票代码: 000703, 股票名称: 恒逸石化, J 值: -14.53\n",
      "股票代码: 600176, 股票名称: 中国巨石, J 值: -6.89\n",
      "股票代码: 000060, 股票名称: 中金岭南, J 值: -8.19\n",
      "股票代码: 601666, 股票名称: 平煤股份, J 值: -7.06\n",
      "股票代码: 603993, 股票名称: 洛阳钼业, J 值: -9.29\n",
      "股票代码: 600755, 股票名称: 厦门国贸, J 值: -8.33\n",
      "股票代码: 600820, 股票名称: 隧道股份, J 值: -5.83\n",
      "股票代码: 600098, 股票名称: 广州发展, J 值: -7.15\n",
      "股票代码: 601016, 股票名称: 节能风电, J 值: -6.01\n",
      "股票代码: 600362, 股票名称: 江西铜业, J 值: -6.02\n",
      "股票代码: 000937, 股票名称: 冀中能源, J 值: -6.63\n",
      "股票代码: 600325, 股票名称: 华发股份, J 值: -8.16\n",
      "股票代码: 000927, 股票名称: 中国铁物, J 值: -13.48\n",
      "股票代码: 601669, 股票名称: 中国电建, J 值: -6.76\n",
      "股票代码: 002299, 股票名称: 圣农发展, J 值: -8.33\n",
      "股票代码: 601139, 股票名称: 深圳燃气, J 值: -5.24\n",
      "股票代码: 000778, 股票名称: 新兴铸管, J 值: -10.43\n",
      "股票代码: 603707, 股票名称: 健友股份, J 值: -5.81\n",
      "股票代码: 600309, 股票名称: 万华化学, J 值: -6.08\n",
      "股票代码: 600737, 股票名称: 中粮糖业, J 值: -12.34\n",
      "股票代码: 600426, 股票名称: 华鲁恒升, J 值: -5.89\n",
      "股票代码: 601107, 股票名称: 四川成渝, J 值: -10.72\n",
      "股票代码: 601168, 股票名称: 西部矿业, J 值: -7.98\n",
      "股票代码: 002936, 股票名称: 郑州银行, J 值: -8.68\n",
      "股票代码: 600971, 股票名称: 恒源煤电, J 值: -7.32\n",
      "股票代码: 600185, 股票名称: 格力地产, J 值: -6.45\n",
      "股票代码: 002003, 股票名称: 伟星股份, J 值: -6.34\n",
      "股票代码: 601187, 股票名称: 厦门银行, J 值: -5.59\n",
      "股票代码: 600873, 股票名称: 梅花生物, J 值: -8.18\n",
      "股票代码: 600022, 股票名称: 山东钢铁, J 值: -9.83\n",
      "股票代码: 601009, 股票名称: 南京银行, J 值: -6.85\n",
      "股票代码: 600026, 股票名称: 中远海能, J 值: -7.82\n",
      "股票代码: 601899, 股票名称: 紫金矿业, J 值: -8.31\n",
      "股票代码: 603733, 股票名称: 仙鹤股份, J 值: -10.95\n",
      "股票代码: 603979, 股票名称: 金诚信, J 值: -7.74\n",
      "股票代码: 002237, 股票名称: 恒邦股份, J 值: -9.69\n",
      "股票代码: 000999, 股票名称: 华润三九, J 值: -11.69\n",
      "股票代码: 600547, 股票名称: 山东黄金, J 值: -6.27\n",
      "股票代码: 601098, 股票名称: 中南传媒, J 值: -14.87\n",
      "股票代码: 000975, 股票名称: 山金国际, J 值: -6.96\n",
      "股票代码: 000061, 股票名称: 农 产 品, J 值: -10.06\n",
      "股票代码: 002252, 股票名称: 上海莱士, J 值: -6.27\n",
      "股票代码: 600489, 股票名称: 中金黄金, J 值: -10.99\n",
      "股票代码: 600603, 股票名称: ST广物, J 值: -9.99\n"
     ]
    }
   ],
   "execution_count": 35
  },
  {
   "metadata": {
    "ExecuteTime": {
     "end_time": "2025-02-05T14:48:34.911244Z",
     "start_time": "2025-02-05T14:48:31.233559Z"
    }
   },
   "cell_type": "code",
   "source": [
    "# 7. 收集 J 值小于 5 时第二天的涨跌幅度\n",
    "next_day_returns = []\n",
    "for code, stock_info in kdj_results.items():\n",
    "    data = stock_info['data']\n",
    "    j_less_than_5_indices = data[data['J'] < 0].index\n",
    "    for idx in j_less_than_5_indices:\n",
    "        next_idx = data.index.get_loc(idx) + 1\n",
    "        if next_idx < len(data):\n",
    "            current_close = data.loc[idx, 'close']\n",
    "            next_close = data.loc[data.index[next_idx], 'close']\n",
    "            return_rate = (next_close - current_close) / current_close * 100\n",
    "            next_day_returns.append(return_rate)\n",
    "\n",
    "# 8. 分析涨跌幅度分布\n",
    "if next_day_returns:\n",
    "    bins = [-np.inf, -5, -3, -1, 0, 1, 3, 5, np.inf]\n",
    "    labels = ['<-5%', '-5%~-3%', '-3%~-1%', '-1%~0%', '0%~1%', '1%~3%', '3%~5%', '>5%']\n",
    "    distribution = pd.cut(next_day_returns, bins=bins, labels=labels).value_counts()\n",
    "    print(\"J 值小于 5 时第二天的涨跌幅度分布：\")\n",
    "    print(distribution)\n",
    "else:\n",
    "    print(\"没有找到 J 值小于 5 的情况，无法分析涨跌幅度分布。\")"
   ],
   "id": "d4191f00cfe6f6b",
   "outputs": [
    {
     "name": "stderr",
     "output_type": "stream",
     "text": [
      "C:\\Users\\应益龙\\AppData\\Local\\Temp\\ipykernel_29708\\2566744693.py:11: RuntimeWarning: divide by zero encountered in scalar divide\n",
      "  return_rate = (next_close - current_close) / current_close * 100\n",
      "C:\\Users\\应益龙\\AppData\\Local\\Temp\\ipykernel_29708\\2566744693.py:11: RuntimeWarning: invalid value encountered in scalar divide\n",
      "  return_rate = (next_close - current_close) / current_close * 100\n"
     ]
    },
    {
     "name": "stdout",
     "output_type": "stream",
     "text": [
      "J 值小于 5 时第二天的涨跌幅度分布：\n",
      "<-5%       11861\n",
      "-5%~-3%     8305\n",
      "-3%~-1%    21408\n",
      "-1%~0%     24373\n",
      "0%~1%      21758\n",
      "1%~3%      25770\n",
      "3%~5%      10194\n",
      ">5%        11978\n",
      "Name: count, dtype: int64\n"
     ]
    }
   ],
   "execution_count": 51
  },
  {
   "metadata": {
    "ExecuteTime": {
     "end_time": "2025-02-21T17:17:45.597578Z",
     "start_time": "2025-02-21T17:15:37.339054Z"
    }
   },
   "cell_type": "code",
   "source": [
    "# 4. 遍历市值符合要求的股票代码获取周线数据\n",
    "for code, name in valid_stocks:\n",
    "    try:\n",
    "        # 获取股票周线数据，将 period 参数改为 'weekly'\n",
    "        stock_weekly = ak.stock_zh_a_hist(symbol=code, period=\"weekly\", start_date=start_date, adjust=\"qfq\")\n",
    "        if not stock_weekly.empty:\n",
    "            filtered_stocks_data[code] = {\n",
    "                'name': name,\n",
    "                'data': stock_weekly\n",
    "            }\n",
    "    except Exception as e:\n",
    "        print(f\"Error getting weekly data for {code}: {e}\")"
   ],
   "id": "88c0be3c191dd877",
   "outputs": [],
   "execution_count": 25
  },
  {
   "metadata": {
    "ExecuteTime": {
     "end_time": "2025-02-21T17:18:01.529352Z",
     "start_time": "2025-02-21T17:17:57.016760Z"
    }
   },
   "cell_type": "code",
   "source": [
    "# 5. 定义计算 KDJ 的函数\n",
    "def calculate_kdj(data, n=9, m1=3, m2=3):\n",
    "    \"\"\"\n",
    "    计算 KDJ 指标\n",
    "    :param data: 包含 'close', 'high', 'low' 列的 DataFrame\n",
    "    :param n: RSV 周期，默认为 9\n",
    "    :param m1: K 平滑因子，默认为 3\n",
    "    :param m2: D 平滑因子，默认为 3\n",
    "    :return: 包含 'K', 'D', 'J' 列的 DataFrame\n",
    "    \"\"\"\n",
    "    low_min = data['low'].rolling(window=n).min()\n",
    "    high_max = data['high'].rolling(window=n).max()\n",
    "    rsv = (data['close'] - low_min) / (high_max - low_min) * 100\n",
    "    data['K'] = rsv.ewm(com=m1 - 1, adjust=False).mean()\n",
    "    data['D'] = data['K'].ewm(com=m2 - 1, adjust=False).mean()\n",
    "    data['J'] = 3 * data['K'] - 2 * data['D']\n",
    "    return data\n",
    "\n",
    "# 6. 计算筛选出的股票的 KDJ 值\n",
    "kdj_results_weekly = {}\n",
    "for code, stock_info in filtered_stocks_data.items():\n",
    "    data = stock_info['data'].rename(columns={'开盘': 'open', '收盘': 'close', '最高': 'high', '最低': 'low'})\n",
    "    data_with_kdj = calculate_kdj(data)\n",
    "    kdj_results_weekly[code] = {\n",
    "        'name': stock_info['name'],\n",
    "        'data': data_with_kdj\n",
    "    }\n"
   ],
   "id": "f2ed093ff08f7b20",
   "outputs": [],
   "execution_count": 26
  },
  {
   "metadata": {
    "ExecuteTime": {
     "end_time": "2025-02-21T17:18:03.903053Z",
     "start_time": "2025-02-21T17:18:03.857063Z"
    }
   },
   "cell_type": "code",
   "source": [
    "# 7. 挑选出 KDJ 的 J 值小于 5 的股票\n",
    "j_less_than_5_stocks = []\n",
    "for code, stock_info in kdj_results_weekly.items():\n",
    "    if not stock_info['data']['J'].empty and stock_info['data']['J'].iloc[-1] < 0:\n",
    "        j_less_than_5_stocks.append({\n",
    "            'code': code,\n",
    "            'name': stock_info['name'],\n",
    "            'j_value': stock_info['data']['J'].iloc[-1]\n",
    "        })\n",
    "\n",
    "# 8. 打印 KDJ 的 J 值小于 5 的股票信息\n",
    "if j_less_than_5_stocks:\n",
    "    print(\"KDJ 的 J 值小于 5 的股票信息（周线数据）：\")\n",
    "    for stock in j_less_than_5_stocks:\n",
    "        print(f\"股票代码: {stock['code']}, 股票名称: {stock['name']}, J 值: {stock['j_value']:.2f}\")\n",
    "else:\n",
    "    print(\"没有找到 KDJ 的 J 值小于 5 的股票（周线数据）。\")"
   ],
   "id": "16f426e615b3d13",
   "outputs": [
    {
     "name": "stdout",
     "output_type": "stream",
     "text": [
      "KDJ 的 J 值小于 5 的股票信息（周线数据）：\n",
      "股票代码: 601933, 股票名称: 永辉超市, J 值: -8.01\n",
      "股票代码: 605499, 股票名称: 东鹏饮料, J 值: -6.88\n",
      "股票代码: 601857, 股票名称: 中国石油, J 值: -11.98\n",
      "股票代码: 600236, 股票名称: 桂冠电力, J 值: -2.68\n",
      "股票代码: 601088, 股票名称: 中国神华, J 值: -7.18\n",
      "股票代码: 600938, 股票名称: 中国海油, J 值: -12.76\n",
      "股票代码: 601111, 股票名称: 中国国航, J 值: -6.31\n",
      "股票代码: 603338, 股票名称: 浙江鼎力, J 值: -4.64\n",
      "股票代码: 600028, 股票名称: 中国石化, J 值: -3.47\n",
      "股票代码: 000729, 股票名称: 燕京啤酒, J 值: -5.08\n",
      "股票代码: 000333, 股票名称: 美的集团, J 值: -4.17\n",
      "股票代码: 600029, 股票名称: 南方航空, J 值: -8.46\n",
      "股票代码: 600600, 股票名称: 青岛啤酒, J 值: -4.16\n",
      "股票代码: 002966, 股票名称: 苏州银行, J 值: -16.25\n",
      "股票代码: 600015, 股票名称: 华夏银行, J 值: -5.99\n",
      "股票代码: 601816, 股票名称: 京沪高铁, J 值: -4.62\n",
      "股票代码: 300979, 股票名称: 华利集团, J 值: -12.90\n",
      "股票代码: 600968, 股票名称: 海油发展, J 值: -4.39\n",
      "股票代码: 601021, 股票名称: 春秋航空, J 值: -0.70\n",
      "股票代码: 600079, 股票名称: 人福医药, J 值: -7.61\n",
      "股票代码: 002203, 股票名称: 海亮股份, J 值: -1.04\n",
      "股票代码: 603156, 股票名称: 养元饮品, J 值: -4.90\n",
      "股票代码: 300888, 股票名称: 稳健医疗, J 值: -5.32\n",
      "股票代码: 600575, 股票名称: 淮河能源, J 值: -8.92\n",
      "股票代码: 600548, 股票名称: 深高速, J 值: -11.18\n",
      "股票代码: 600655, 股票名称: 豫园股份, J 值: -3.10\n",
      "股票代码: 600583, 股票名称: 海油工程, J 值: -3.71\n",
      "股票代码: 600820, 股票名称: 隧道股份, J 值: -5.10\n",
      "股票代码: 600872, 股票名称: 中炬高新, J 值: -2.00\n",
      "股票代码: 600258, 股票名称: 首旅酒店, J 值: -1.79\n",
      "股票代码: 601156, 股票名称: 东航物流, J 值: -11.46\n",
      "股票代码: 600185, 股票名称: 格力地产, J 值: -3.75\n",
      "股票代码: 300783, 股票名称: 三只松鼠, J 值: -7.53\n",
      "股票代码: 600299, 股票名称: 安迪苏, J 值: -7.46\n",
      "股票代码: 002847, 股票名称: 盐津铺子, J 值: -11.81\n",
      "股票代码: 603983, 股票名称: 丸美生物, J 值: -2.04\n",
      "股票代码: 603871, 股票名称: 嘉友国际, J 值: -1.44\n",
      "股票代码: 600894, 股票名称: 广日股份, J 值: -8.13\n",
      "股票代码: 600729, 股票名称: 重庆百货, J 值: -2.94\n",
      "股票代码: 300827, 股票名称: 上能电气, J 值: -6.55\n"
     ]
    }
   ],
   "execution_count": 28
  },
  {
   "metadata": {
    "ExecuteTime": {
     "end_time": "2025-02-21T18:01:54.477945Z",
     "start_time": "2025-02-21T18:01:53.882722Z"
    }
   },
   "cell_type": "code",
   "source": "stock_df = ak.stock_zh_a_spot_em()\n",
   "id": "cc6f23bd68074a8b",
   "outputs": [],
   "execution_count": 29
  }
 ],
 "metadata": {
  "kernelspec": {
   "display_name": "Python 3",
   "language": "python",
   "name": "python3"
  },
  "language_info": {
   "codemirror_mode": {
    "name": "ipython",
    "version": 2
   },
   "file_extension": ".py",
   "mimetype": "text/x-python",
   "name": "python",
   "nbconvert_exporter": "python",
   "pygments_lexer": "ipython2",
   "version": "2.7.6"
  }
 },
 "nbformat": 4,
 "nbformat_minor": 5
}
